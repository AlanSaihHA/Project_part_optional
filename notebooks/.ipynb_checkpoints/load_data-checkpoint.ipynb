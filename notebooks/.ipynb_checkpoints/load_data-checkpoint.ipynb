{
 "cells": [
  {
   "cell_type": "code",
   "execution_count": 30,
   "id": "602e8396-7c23-413f-b3db-915c8868f59c",
   "metadata": {},
   "outputs": [],
   "source": [
    "import numpy as np"
   ]
  },
  {
   "cell_type": "code",
   "execution_count": 31,
   "id": "5c4183b0-431e-46bd-b6c2-a556868b571a",
   "metadata": {},
   "outputs": [],
   "source": [
    "uu = np.load('../data/DUCT_3500/DUCT_3500_uu.npy')\n",
    "uv = np.load('../data/DUCT_3500/DUCT_3500_uv.npy')\n",
    "uw = np.load('../data/DUCT_3500/DUCT_3500_uw.npy')\n",
    "vv = np.load('../data/DUCT_3500/DUCT_3500_vv.npy')\n",
    "vw = np.load('../data/DUCT_3500/DUCT_3500_vw.npy')\n",
    "ww = np.load('../data/DUCT_3500/DUCT_3500_ww.npy')\n",
    "\n",
    "epsi = np.load('../data/DUCT_3500/kepsilon_DUCT_3500_epsilon.npy')\n",
    "k = np.load('../data/DUCT_3500/kepsilon_DUCT_3500_k.npy')\n",
    "gradU = np.load('../data/DUCT_3500/kepsilon_DUCT_3500_gradU.npy')\n",
    "\n",
    "#tensor = np.load('../data/kepsilon_DUCT_1100_Tensors.npy')"
   ]
  },
  {
   "cell_type": "code",
   "execution_count": 32,
   "id": "71d2754f-f014-428d-90f0-95caf282ed00",
   "metadata": {},
   "outputs": [
    {
     "data": {
      "text/plain": [
       "(9216,)"
      ]
     },
     "execution_count": 32,
     "metadata": {},
     "output_type": "execute_result"
    }
   ],
   "source": [
    "ww.shape"
   ]
  },
  {
   "cell_type": "code",
   "execution_count": 33,
   "id": "bed0e046-4793-4f7d-9b0e-1efeccf0cab1",
   "metadata": {},
   "outputs": [
    {
     "data": {
      "text/plain": [
       "(9216,)"
      ]
     },
     "execution_count": 33,
     "metadata": {},
     "output_type": "execute_result"
    }
   ],
   "source": [
    "k.shape"
   ]
  },
  {
   "cell_type": "code",
   "execution_count": 34,
   "id": "46f191ae-5961-45e5-9be0-fe22dd06db30",
   "metadata": {},
   "outputs": [
    {
     "data": {
      "text/plain": [
       "(9216, 3, 3)"
      ]
     },
     "execution_count": 34,
     "metadata": {},
     "output_type": "execute_result"
    }
   ],
   "source": [
    "gradU.shape"
   ]
  },
  {
   "cell_type": "code",
   "execution_count": 35,
   "id": "b19c382f-89c0-49b5-94a7-f1f7934733d1",
   "metadata": {},
   "outputs": [],
   "source": [
    "grad_u_00 = []\n",
    "grad_u_01 = []\n",
    "grad_u_02 = []\n",
    "grad_u_10 = []\n",
    "grad_u_11 = []\n",
    "grad_u_12 = []\n",
    "grad_u_20 = []\n",
    "grad_u_21 = []\n",
    "grad_u_22 = [] \n",
    "for i in np.arange(gradU.shape[0]):\n",
    "    grad_u_00.append(gradU[i,0,0])\n",
    "    grad_u_01.append(gradU[i,0,1])\n",
    "    grad_u_02.append(gradU[i,0,2])\n",
    "    grad_u_10.append(gradU[i,1,0])\n",
    "    grad_u_11.append(gradU[i,1,1])\n",
    "    grad_u_12.append(gradU[i,1,2])\n",
    "    grad_u_20.append(gradU[i,2,0])\n",
    "    grad_u_21.append(gradU[i,2,1])\n",
    "    grad_u_22.append(gradU[i,2,2]) \n",
    "grad_u_00 = np.array(grad_u_00)\n",
    "grad_u_01 = np.array(grad_u_01)\n",
    "grad_u_02 = np.array(grad_u_02)\n",
    "grad_u_10 = np.array(grad_u_10)\n",
    "grad_u_11 = np.array(grad_u_11)\n",
    "grad_u_12 = np.array(grad_u_12)\n",
    "grad_u_20 = np.array(grad_u_20)\n",
    "grad_u_21 = np.array(grad_u_21)\n",
    "grad_u_22 = np.array(grad_u_22)   "
   ]
  },
  {
   "cell_type": "code",
   "execution_count": 36,
   "id": "dd81efd4-24cb-4ea8-956c-20f63c451fc7",
   "metadata": {},
   "outputs": [
    {
     "data": {
      "text/plain": [
       "(9216,)"
      ]
     },
     "execution_count": 36,
     "metadata": {},
     "output_type": "execute_result"
    }
   ],
   "source": [
    "grad_u_00.shape"
   ]
  },
  {
   "cell_type": "code",
   "execution_count": 37,
   "id": "28db93f3-d41f-4ae8-892f-7bec7bd3a536",
   "metadata": {
    "tags": []
   },
   "outputs": [],
   "source": [
    "# If this cell does not work, please change 'r+' by 'a', and delete the last file before \n",
    "# running this cell every time \n",
    "f = open (\"../data/DUCT_3500/data_reshaped.txt\", \"r+\")\n",
    "f.write('tke, epsilon, grad_u_00, grad_u_01, grad_u_02, grad_u_10, grad_u_11, grad_u_12, grad_u_20, grad_u_21, grad_u_22,uu_00, uu_01, uu_02, uu_10, uu_11, uu_12, uu_20, uu_21, uu_22, uu,uv,uw,vu,vv,vw,wu,wv,ww \\n')\n",
    "for i in np.arange(len(k)):\n",
    "    f.write(\n",
    "            f\"{k[i]:.3E}\"+'   '+f\"{epsi[i]:.3E}\"+'   '+\n",
    "            f\"{grad_u_00[i]:.3E}\"+'   '+f\"{grad_u_01[i]:.3E}\"+'   '+f\"{grad_u_02[i]:.3E}\"+'   '+\n",
    "            f\"{grad_u_10[i]:.3E}\"+'   '+f\"{grad_u_11[i]:.3E}\"+'   '+f\"{grad_u_12[i]:.3E}\"+'   '+\n",
    "            f\"{grad_u_20[i]:.3E}\"+'   '+f\"{grad_u_21[i]:.3E}\"+'   '+f\"{grad_u_22[i]:.3E}\"+'   '+\n",
    "            f\"{uu[i]:.3E}\"+'   '+f\"{uv[i]:.3E}\"+'   '+f\"{uw[i]:.3E}\"+'   '+\n",
    "            f\"{uv[i]:.3E}\"+'   '+f\"{vv[i]:.3E}\"+'   '+f\"{vw[i]:.3E}\"+'   '+\n",
    "            f\"{uw[i]:.3E}\"+'   '+f\"{vw[i]:.3E}\"+'   '+f\"{ww[i]:.3E}\"+'   '+'\\n'\n",
    "           )\n",
    "f.close()"
   ]
  },
  {
   "cell_type": "code",
   "execution_count": 38,
   "id": "c38751b5-3c05-4bcb-bfbe-88f7c9869a7e",
   "metadata": {},
   "outputs": [],
   "source": [
    "data = np.loadtxt('../data/DUCT_3500/data_reshaped.txt', skiprows=1)"
   ]
  },
  {
   "cell_type": "code",
   "execution_count": 39,
   "id": "8ce313e3-cd7f-4f28-bc17-3b3ec8ca2b58",
   "metadata": {},
   "outputs": [
    {
     "data": {
      "text/plain": [
       "(9216, 20)"
      ]
     },
     "execution_count": 39,
     "metadata": {},
     "output_type": "execute_result"
    }
   ],
   "source": [
    "data.shape"
   ]
  },
  {
   "cell_type": "code",
   "execution_count": 40,
   "id": "8ef30372-85d2-4014-9387-c226af74dc7b",
   "metadata": {},
   "outputs": [],
   "source": [
    "tke = data[:, 0]\n",
    "eps = data[:, 1]\n",
    "grad_u_flat = data[:, 2:11]\n",
    "stresses_flat = data[:, 11:]\n",
    "\n",
    "# Reshape grad_u and stresses to num_points X 3 X 3 arrays\n",
    "num_points = data.shape[0]\n",
    "grad_u = np.zeros((num_points, 3, 3))\n",
    "stresses = np.zeros((num_points, 3, 3))\n",
    "for i in range(3):\n",
    "    for j in range(3):\n",
    "        grad_u[:, i, j] = grad_u_flat[:, i*3+j]\n",
    "        stresses[:, i, j] = stresses_flat[:, i*3+j]"
   ]
  },
  {
   "cell_type": "code",
   "execution_count": 41,
   "id": "8b8ec4b7-64bd-4d5b-a922-ba96ddfb5fcd",
   "metadata": {},
   "outputs": [],
   "source": [
    "cap = 7\n",
    "eps = np.maximum(eps, 1e-8)\n",
    "tke_eps = tke / eps\n",
    "\n",
    "Sij = np.zeros((num_points, 3, 3))\n",
    "Rij = np.zeros((num_points, 3, 3))"
   ]
  },
  {
   "cell_type": "code",
   "execution_count": 42,
   "id": "27dba43c-ee95-4aef-a161-56f8d2c55398",
   "metadata": {},
   "outputs": [],
   "source": [
    "for i in range(num_points):\n",
    "    Sij[i, :, :] = 0.5 * (grad_u[i, :, :] + np.transpose(grad_u[i, :, :]))\n",
    "    Rij[i, :, :] = 0.5 * (grad_u[i, :, :] - np.transpose(grad_u[i, :, :]))"
   ]
  },
  {
   "cell_type": "code",
   "execution_count": 43,
   "id": "eeb998c5-0ffc-4583-a609-067f21e11aad",
   "metadata": {},
   "outputs": [
    {
     "data": {
      "text/plain": [
       "array([[ 0.00000000e+00, -9.65499999e-04,  1.66000000e+01],\n",
       "       [-9.65499999e-04, -2.50700000e-12, -2.27473915e-10],\n",
       "       [ 1.66000000e+01, -2.27473915e-10, -9.35400000e-12]])"
      ]
     },
     "execution_count": 43,
     "metadata": {},
     "output_type": "execute_result"
    }
   ],
   "source": [
    "Sij[0]"
   ]
  },
  {
   "cell_type": "code",
   "execution_count": 44,
   "id": "82f7e53a-8be5-4c8f-9f3c-ac9f980700af",
   "metadata": {},
   "outputs": [
    {
     "data": {
      "text/plain": [
       "array([[ 0.00000000e+00, -9.65500001e-04,  1.66000000e+01],\n",
       "       [ 9.65500001e-04,  0.00000000e+00, -2.27526085e-10],\n",
       "       [-1.66000000e+01,  2.27526085e-10,  0.00000000e+00]])"
      ]
     },
     "execution_count": 44,
     "metadata": {},
     "output_type": "execute_result"
    }
   ],
   "source": [
    "Rij[0]"
   ]
  },
  {
   "cell_type": "code",
   "execution_count": 45,
   "id": "8a0ab870-b9bd-4f54-8d7c-9ec85b81c208",
   "metadata": {},
   "outputs": [],
   "source": [
    "num_points = Sij.shape[0]\n",
    "num_invariants = 5\n",
    "invariants = np.zeros((num_points, num_invariants))\n",
    "for i in range(num_points):\n",
    "    invariants[i, 0] = np.trace(np.dot(Sij[i, :, :], Sij[i, :, :]))\n",
    "    invariants[i, 1] = np.trace(np.dot(Rij[i, :, :], Rij[i, :, :]))\n",
    "    invariants[i, 2] = np.trace(np.dot(Sij[i, :, :], np.dot(Sij[i, :, :], Sij[i, :, :])))\n",
    "    invariants[i, 3] = np.trace(np.dot(Rij[i, :, :], np.dot(Rij[i, :, :], Sij[i, :, :])))\n",
    "#     invariants[i, 3] = np.trace(np.dot(Sij[i, :, :], np.dot(Rij[i, :, :], Rij[i, :, :])))\n",
    "    invariants[i, 4] = np.trace(np.dot(np.dot(Rij[i, :, :], Rij[i, :, :]), np.dot(Sij[i, :, :], Sij[i, :, :])))"
   ]
  },
  {
   "cell_type": "code",
   "execution_count": 46,
   "id": "f7896d95-52b5-457b-9547-17c75f6d77ff",
   "metadata": {},
   "outputs": [],
   "source": [
    "num_tensor_basis = 10\n",
    "T = np.zeros((num_points, num_tensor_basis, 3, 3))\n",
    "for i in range(num_points):\n",
    "    sij = Sij[i, :, :]\n",
    "    rij = Rij[i, :, :]\n",
    "    T[i, 0, :, :] = sij\n",
    "    T[i, 1, :, :] = np.dot(sij, rij) - np.dot(rij, sij)\n",
    "    T[i, 2, :, :] = np.dot(sij, sij) - 1./3.*np.eye(3)*np.trace(np.dot(sij, sij))\n",
    "    T[i, 3, :, :] = np.dot(rij, rij) - 1./3.*np.eye(3)*np.trace(np.dot(rij, rij))\n",
    "    T[i, 4, :, :] = np.dot(rij, np.dot(sij, sij)) - np.dot(np.dot(sij, sij), rij)\n",
    "    T[i, 5, :, :] = np.dot(rij, np.dot(rij, sij)) \\\n",
    "                    + np.dot(sij, np.dot(rij, rij)) \\\n",
    "                    - 2./3.*np.eye(3)*np.trace(np.dot(sij, np.dot(rij, rij)))\n",
    "    T[i, 6, :, :] = np.dot(np.dot(rij, sij), np.dot(rij, rij)) - np.dot(np.dot(rij, rij), np.dot(sij, rij))\n",
    "    T[i, 7, :, :] = np.dot(np.dot(sij, rij), np.dot(sij, sij)) - np.dot(np.dot(sij, sij), np.dot(rij, sij))\n",
    "    T[i, 8, :, :] = np.dot(np.dot(rij, rij), np.dot(sij, sij)) \\\n",
    "                    + np.dot(np.dot(sij, sij), np.dot(rij, rij)) \\\n",
    "                    - 2./3.*np.eye(3)*np.trace(np.dot(np.dot(sij, sij), np.dot(rij, rij)))\n",
    "    T[i, 9, :, :] = np.dot(np.dot(rij, np.dot(sij, sij)), np.dot(rij, rij)) \\\n",
    "                    - np.dot(np.dot(rij, np.dot(rij, sij)), np.dot(sij, rij))\n",
    "    # Enforce zero trace for anisotropy\n",
    "    for j in range(num_tensor_basis):\n",
    "        T[i, j, :, :] = T[i, j, :, :] - 1./3.*np.eye(3)*np.trace(T[i, j, :, :])"
   ]
  },
  {
   "cell_type": "code",
   "execution_count": 47,
   "id": "593e7cbb-2eea-4c57-9bd2-55b1e8d6a53a",
   "metadata": {},
   "outputs": [
    {
     "data": {
      "text/plain": [
       "0.0"
      ]
     },
     "execution_count": 47,
     "metadata": {},
     "output_type": "execute_result"
    }
   ],
   "source": [
    "np.trace(T[0,0])"
   ]
  },
  {
   "cell_type": "code",
   "execution_count": null,
   "id": "2b28cf0c-c9ab-41b9-9976-c70466a7f2a9",
   "metadata": {},
   "outputs": [],
   "source": []
  }
 ],
 "metadata": {
  "kernelspec": {
   "display_name": "Python 3",
   "language": "python",
   "name": "python3"
  },
  "language_info": {
   "codemirror_mode": {
    "name": "ipython",
    "version": 3
   },
   "file_extension": ".py",
   "mimetype": "text/x-python",
   "name": "python",
   "nbconvert_exporter": "python",
   "pygments_lexer": "ipython3",
   "version": "3.8.8"
  }
 },
 "nbformat": 4,
 "nbformat_minor": 5
}
